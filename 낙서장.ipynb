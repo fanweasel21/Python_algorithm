{
 "cells": [
  {
   "cell_type": "code",
   "execution_count": 3,
   "metadata": {},
   "outputs": [
    {
     "name": "stdout",
     "output_type": "stream",
     "text": [
      "아이디를 입력해주세요: mya\n",
      "패스워드를 입력해주세요: 1223\n",
      "로그인 1회 실패\n",
      "\n",
      "아이디를 입력해주세요: mya\n",
      "패스워드를 입력해주세요: 1234\n",
      "로그인 성공\n"
     ]
    }
   ],
   "source": [
    "# 로그인 실패 횟수\n",
    "cnt = 0\n",
    "\n",
    "while True:\n",
    "    \n",
    "    #ID, PW 입력\n",
    "    id = input('아이디를 입력해주세요: ')\n",
    "    pw = input('패스워드를 입력해주세요: ')\n",
    "    \n",
    "    #ID와 PW 일치하는지?\n",
    "    if id==\"mya\" and pw==\"1234\":\n",
    "        print(\"로그인 성공\")\n",
    "        break\n",
    "    else:\n",
    "        cnt = cnt + 1\n",
    "        print(\"로그인 {}회 실패\".format(cnt))\n",
    "        \n",
    "    if cnt >= 3:\n",
    "        print(\"보안을 위해 로그인 시스템을 종료합니다.\")\n",
    "        break\n",
    "        \n",
    "    #줄바꿈    \n",
    "    print()"
   ]
  },
  {
   "cell_type": "code",
   "execution_count": null,
   "metadata": {},
   "outputs": [
    {
     "name": "stdout",
     "output_type": "stream",
     "text": [
      "아이디를 입력해주세요: yeah\n",
      "패스워드를 입력해주세요: dddd\n",
      "\n"
     ]
    }
   ],
   "source": [
    "# 로그인 실패 횟수\n",
    "cnt = 0\n",
    "    \n",
    "    \n",
    "    \n",
    "while True:\n",
    "    \n",
    "    id = input('아이디를 입력해주세요: ')\n",
    "    \n",
    "    if id == \"yeah\":\n",
    "        pw = input(\"패스워드를 입력해주세요: \")\n",
    "    else:\n",
    "        print(\"존재하지 않는 아이디입니다.\")\n",
    "        id = input(\"아이디를 다시 입력해주세요: \")\n",
    "        if id == \"yeah\":\n",
    "            pw = input(\"패스워드를 입력해주세요: \")\n",
    "               \n",
    "        if pw == \"1234\":\n",
    "            print(\"로그인 성공\")\n",
    "        else:\n",
    "            print(\"잘못된 패스워드입니다.\")    \n",
    "            cnt = cnt + 1\n",
    "                \n",
    "        if cnt >= 3:\n",
    "            print(\"횟수 초과로 로그인 시스템을 종료합니다.\")\n",
    "            print(\"로그인에 실패하였습니다. ({}회/3회)\".format(cnt))\n",
    "            break\n",
    "        \n",
    "    #줄바꿈    \n",
    "    print()"
   ]
  },
  {
   "cell_type": "code",
   "execution_count": null,
   "metadata": {},
   "outputs": [],
   "source": []
  },
  {
   "cell_type": "code",
   "execution_count": 3,
   "metadata": {},
   "outputs": [
    {
     "name": "stdout",
     "output_type": "stream",
     "text": [
      "Twinkle, twinkle, little star, \n",
      "\tHow I wonder what you are! \n",
      "\t\tUp above the world so high, \n",
      "\t\tLike a diamond in the sky. \n",
      "Twinkle, twinkle, little star, \n",
      "\tHow I wonder what you are\n"
     ]
    }
   ],
   "source": [
    "print(\"Twinkle, twinkle, little star, \\n\\tHow I wonder what you are! \\n\\t\\tUp above the world so high, \\n\\t\\tLike a diamond in the sky. \\nTwinkle, twinkle, little star, \\n\\tHow I wonder what you are\") "
   ]
  },
  {
   "cell_type": "code",
   "execution_count": 8,
   "metadata": {},
   "outputs": [
    {
     "name": "stdout",
     "output_type": "stream",
     "text": [
      "Python version\n",
      "3.8.5 (default, Sep  3 2020, 21:29:08) [MSC v.1916 64 bit (AMD64)]\n",
      "Version info,\n",
      "sys.version_info(major=3, minor=8, micro=5, releaselevel='final', serial=0)\n"
     ]
    }
   ],
   "source": [
    "import sys\n",
    "print(\"Python version\")\n",
    "print(sys.version)\n",
    "print(\"Version info,\")\n",
    "print(sys.version_info)"
   ]
  },
  {
   "cell_type": "code",
   "execution_count": 11,
   "metadata": {},
   "outputs": [
    {
     "name": "stdout",
     "output_type": "stream",
     "text": [
      "Current date and time : \n",
      "2021-01-11 21:41:52\n"
     ]
    },
    {
     "data": {
      "text/plain": [
       "datetime.datetime(2021, 1, 11, 21, 41, 52, 875695)"
      ]
     },
     "execution_count": 11,
     "metadata": {},
     "output_type": "execute_result"
    }
   ],
   "source": [
    "import datetime\n",
    "now = datetime.datetime.now()\n",
    "print(\"Current date and time : \")\n",
    "print(now.strftime(\"%Y-%m-%d %H:%M:%S\"))\n",
    "\n",
    "now"
   ]
  },
  {
   "cell_type": "code",
   "execution_count": 18,
   "metadata": {},
   "outputs": [
    {
     "name": "stdout",
     "output_type": "stream",
     "text": [
      "3.8013271108436504\n"
     ]
    }
   ],
   "source": [
    "import math\n",
    "\n",
    "r = 1.1\n",
    "Area = r ** 2 * math.pi\n",
    "print(Area)"
   ]
  },
  {
   "cell_type": "code",
   "execution_count": 29,
   "metadata": {},
   "outputs": [
    {
     "name": "stdout",
     "output_type": "stream",
     "text": [
      "Write in your first name: Jin\n",
      "Write in your last name: Kwon\n",
      "Welcome, Kwon Jin\n"
     ]
    }
   ],
   "source": [
    "first_name = input(\"Write in your first name: \")\n",
    "last_name = input(\"Write in your last name: \")\n",
    "\n",
    "print(\"Welcome, \"+last_name+\" \"+first_name)"
   ]
  },
  {
   "cell_type": "code",
   "execution_count": 42,
   "metadata": {},
   "outputs": [
    {
     "name": "stdout",
     "output_type": "stream",
     "text": [
      "Input some comma separated numbers: 5,6,7\n",
      "List:  ['5', '6', '7']\n",
      "Tuple:  ('5',)\n"
     ]
    }
   ],
   "source": [
    "values = input(\"Input some comma separated numbers: \")\n",
    "lst = values.split(\",\")\n",
    "print(\"List: \", lst)\n",
    "print(\"Tuple: \", tuple)"
   ]
  },
  {
   "cell_type": "code",
   "execution_count": 59,
   "metadata": {},
   "outputs": [
    {
     "name": "stdout",
     "output_type": "stream",
     "text": [
      "Tell us the filename: eeee.exe\n",
      "The extension of the file is : 'exe'\n"
     ]
    }
   ],
   "source": [
    "file_ext = input(\"Tell us the filename: \")\n",
    "result = file_ext.split(\".\")\n",
    "#print(\"The extension of the file is : \" + result.pop(-1))\n",
    "print(\"The extension of the file is : \" + repr(result[-1]))"
   ]
  },
  {
   "cell_type": "code",
   "execution_count": 64,
   "metadata": {},
   "outputs": [
    {
     "name": "stdout",
     "output_type": "stream",
     "text": [
      "Red Black\n"
     ]
    }
   ],
   "source": [
    "color_list = [\"Red\", \"Green\", \"White\", \"Black\"]\n",
    "#print(color_list.pop(0)+\", \"+color_list.pop(-1))\n",
    "print(\"%s %s\"%(color_list[0], color_list[-1]))"
   ]
  },
  {
   "cell_type": "code",
   "execution_count": 74,
   "metadata": {},
   "outputs": [
    {
     "name": "stdout",
     "output_type": "stream",
     "text": [
      "The examination will start from: 11 / 12 / 2014\n"
     ]
    }
   ],
   "source": [
    "exam_st_date = (11, 12, 2014)\n",
    "#print(\"The examination will start from: %i / %i / %i\"%exam_st_date)\n",
    "print(\"The examination will start from: %i / %i / %i\"%exam_st_date)"
   ]
  },
  {
   "cell_type": "code",
   "execution_count": 79,
   "metadata": {},
   "outputs": [
    {
     "name": "stdout",
     "output_type": "stream",
     "text": [
      "Input your integer: 5\n",
      "615\n"
     ]
    }
   ],
   "source": [
    "#n = int(input(\"Input your integer: \"))\n",
    "#print(n + ((10*n) + n) + ((100*n)+(10*n)+n))\n",
    "\n",
    "n = int(input(\"Input your integer: \"))\n",
    "n1 = int(\"%s\" % n)\n",
    "n2 = int(\"%s%s\" % (n, n))\n",
    "n3 = int(\"%s%s%s\" % (n, n, n))\n",
    "print(n1 + n2 + n3)"
   ]
  },
  {
   "cell_type": "code",
   "execution_count": 82,
   "metadata": {},
   "outputs": [
    {
     "name": "stdout",
     "output_type": "stream",
     "text": [
      "Return the absolute value of the argument.\n",
      "Return the sum of a 'start' value (default: 0) plus an iterable of numbers\n",
      "\n",
      "When the iterable is empty, return the start value.\n",
      "This function is intended specifically for use with numeric values and may\n",
      "reject non-numeric types.\n"
     ]
    }
   ],
   "source": [
    "print(abs.__doc__)\n",
    "print(sum.__doc__)"
   ]
  },
  {
   "cell_type": "code",
   "execution_count": 90,
   "metadata": {},
   "outputs": [
    {
     "name": "stdout",
     "output_type": "stream",
     "text": [
      "Input the year: 2020\n",
      "Input the month: 1\n",
      "    January 2020\n",
      "Mo Tu We Th Fr Sa Su\n",
      "       1  2  3  4  5\n",
      " 6  7  8  9 10 11 12\n",
      "13 14 15 16 17 18 19\n",
      "20 21 22 23 24 25 26\n",
      "27 28 29 30 31\n",
      "\n"
     ]
    }
   ],
   "source": [
    "import calendar\n",
    "y = int(input(\"Input the year: \"))\n",
    "m = int(input(\"Input the month: \"))\n",
    "print(calendar.month(y, m))"
   ]
  },
  {
   "cell_type": "code",
   "execution_count": 94,
   "metadata": {},
   "outputs": [
    {
     "name": "stdout",
     "output_type": "stream",
     "text": [
      "a string that you \"don't\" have to escape\n",
      "This\n",
      "is a ...... multi-line\n",
      "heredoc string --------> example\n",
      "\n",
      "a sting that you \"don't\" have to escape\n",
      "This\n",
      "is a ...... multi-line\n",
      "heredoc string -------> example\n",
      "\n"
     ]
    }
   ],
   "source": [
    "print(\"a string that you \\\"don't\\\" have to escape\\nThis\\nis a ...... multi-line\\nheredoc string --------> example\")\n",
    "\n",
    "print(\"\"\"\n",
    "a sting that you \"don't\" have to escape\n",
    "This\n",
    "is a ...... multi-line\n",
    "heredoc string -------> example\n",
    "\"\"\")"
   ]
  },
  {
   "cell_type": "code",
   "execution_count": 96,
   "metadata": {},
   "outputs": [
    {
     "name": "stdout",
     "output_type": "stream",
     "text": [
      "9\n"
     ]
    }
   ],
   "source": [
    "from datetime import date\n",
    "f_date = date(2014, 7, 2)\n",
    "l_date = date(2014, 7, 11)\n",
    "minus = l_date - f_date\n",
    "print(minus.days)"
   ]
  },
  {
   "cell_type": "code",
   "execution_count": 98,
   "metadata": {},
   "outputs": [
    {
     "name": "stdout",
     "output_type": "stream",
     "text": [
      "678.5840131753953\n"
     ]
    }
   ],
   "source": [
    "import math\n",
    "\n",
    "r = 6\n",
    "V = r ** 3 * math.pi\n",
    "print(V)"
   ]
  },
  {
   "cell_type": "code",
   "execution_count": 102,
   "metadata": {},
   "outputs": [
    {
     "name": "stdout",
     "output_type": "stream",
     "text": [
      "input your number: 5\n",
      "24\n"
     ]
    }
   ],
   "source": [
    "num = int(input(\"input your number: \"))\n",
    "if num >= 17:\n",
    "    print(num - 17)\n",
    "else:\n",
    "    print(abs(2*(num-17)))"
   ]
  },
  {
   "cell_type": "code",
   "execution_count": 3,
   "metadata": {},
   "outputs": [
    {
     "name": "stdout",
     "output_type": "stream",
     "text": [
      "9\n"
     ]
    }
   ],
   "source": [
    "from datetime import date\n",
    "f_date = date(2014, 7, 2)\n",
    "l_date = date(2014, 7, 11)\n",
    "delta = l_date - f_date\n",
    "print(delta.days)"
   ]
  },
  {
   "cell_type": "code",
   "execution_count": 11,
   "metadata": {},
   "outputs": [
    {
     "name": "stdout",
     "output_type": "stream",
     "text": [
      "Input you number: 5\n",
      "24\n"
     ]
    }
   ],
   "source": [
    "n = int(input(\"Input you number: \"))\n",
    "if n >= 17:\n",
    "    print(n - 17)\n",
    "elif n < 17:\n",
    "    print(abs(2 * (n - 17)))"
   ]
  },
  {
   "cell_type": "code",
   "execution_count": 9,
   "metadata": {},
   "outputs": [],
   "source": [
    "def difference(n):\n",
    "    if n <= 17:\n",
    "        return 17 - n\n",
    "    else:\n",
    "        return (n - 17) * 2\n",
    "    "
   ]
  },
  {
   "cell_type": "code",
   "execution_count": 10,
   "metadata": {},
   "outputs": [
    {
     "name": "stdout",
     "output_type": "stream",
     "text": [
      "10\n"
     ]
    }
   ],
   "source": [
    "print(difference(22))"
   ]
  },
  {
   "cell_type": "code",
   "execution_count": 14,
   "metadata": {},
   "outputs": [],
   "source": [
    "def sum_up(l, m, n):\n",
    "    if l != m and m != n and l != n:\n",
    "        return l + m + n \n",
    "    elif l == m and m == n:\n",
    "        return 9 * l"
   ]
  },
  {
   "cell_type": "code",
   "execution_count": 16,
   "metadata": {},
   "outputs": [
    {
     "data": {
      "text/plain": [
       "18"
      ]
     },
     "execution_count": 16,
     "metadata": {},
     "output_type": "execute_result"
    }
   ],
   "source": [
    "sum_up(1, 2, 3)\n",
    "sum_up(2, 2, 2)"
   ]
  },
  {
   "cell_type": "code",
   "execution_count": 21,
   "metadata": {},
   "outputs": [],
   "source": [
    "#19\n",
    "def add_is(x):\n",
    "    if x.startswith(\"Is\"):\n",
    "        return x\n",
    "    else:\n",
    "        return \"Is\" + x"
   ]
  },
  {
   "cell_type": "code",
   "execution_count": 22,
   "metadata": {},
   "outputs": [
    {
     "data": {
      "text/plain": [
       "'Iseifnie'"
      ]
     },
     "execution_count": 22,
     "metadata": {},
     "output_type": "execute_result"
    }
   ],
   "source": [
    "add_is(\"eifnie\")"
   ]
  },
  {
   "cell_type": "code",
   "execution_count": 27,
   "metadata": {},
   "outputs": [],
   "source": [
    "def repeat(str, n):\n",
    "    result = \"\"\n",
    "    for i in range(n):\n",
    "        result = result + str\n",
    "    return result"
   ]
  },
  {
   "cell_type": "code",
   "execution_count": 28,
   "metadata": {},
   "outputs": [
    {
     "data": {
      "text/plain": [
       "'enfeenfeenfeenfeenfeenfe'"
      ]
     },
     "execution_count": 28,
     "metadata": {},
     "output_type": "execute_result"
    }
   ],
   "source": [
    "repeat(\"enfe\", 6)"
   ]
  },
  {
   "cell_type": "code",
   "execution_count": 31,
   "metadata": {},
   "outputs": [],
   "source": [
    "def even_odd():\n",
    "    n = int(input(\"Input your integer: \"))\n",
    "    if n %2 == 0:\n",
    "        print(\"The number you typed in is an Even number.\")\n",
    "    else:\n",
    "        print(\"The number you typed in is an Odd number.\")"
   ]
  },
  {
   "cell_type": "code",
   "execution_count": 33,
   "metadata": {},
   "outputs": [
    {
     "name": "stdout",
     "output_type": "stream",
     "text": [
      "Input your integer: 5\n",
      "The number you typed in is an Odd number.\n"
     ]
    }
   ],
   "source": [
    "even_odd()"
   ]
  },
  {
   "cell_type": "code",
   "execution_count": 37,
   "metadata": {},
   "outputs": [],
   "source": [
    "def find_four(nums):\n",
    "    count = 0\n",
    "    for num in nums:\n",
    "        if num == 4:\n",
    "            count += 1\n",
    "    return count"
   ]
  },
  {
   "cell_type": "code",
   "execution_count": 47,
   "metadata": {},
   "outputs": [],
   "source": [
    "def repeat_two(str, n):\n",
    "    if len(str) < 2:\n",
    "        return str * n\n",
    "    else:\n",
    "        return (str[0:2]) * n"
   ]
  },
  {
   "cell_type": "code",
   "execution_count": 48,
   "metadata": {},
   "outputs": [
    {
     "data": {
      "text/plain": [
       "'dedede'"
      ]
     },
     "execution_count": 48,
     "metadata": {},
     "output_type": "execute_result"
    }
   ],
   "source": [
    "repeat_two(\"dedmkfme\", 3)"
   ]
  },
  {
   "cell_type": "code",
   "execution_count": 49,
   "metadata": {},
   "outputs": [
    {
     "data": {
      "text/plain": [
       "'dddddd'"
      ]
     },
     "execution_count": 49,
     "metadata": {},
     "output_type": "execute_result"
    }
   ],
   "source": [
    "repeat_two(\"d\", 6)"
   ]
  },
  {
   "cell_type": "code",
   "execution_count": 53,
   "metadata": {},
   "outputs": [],
   "source": [
    "def find_vowel(x):\n",
    "    if x == [\"a\", \"e\", \"i\", \"o\", \"u\"]:\n",
    "        return \"It is a vowel.\"\n",
    "    else:\n",
    "        return \"It is not a vowel\""
   ]
  },
  {
   "cell_type": "code",
   "execution_count": 55,
   "metadata": {},
   "outputs": [
    {
     "data": {
      "text/plain": [
       "'It is not a vowel'"
      ]
     },
     "execution_count": 55,
     "metadata": {},
     "output_type": "execute_result"
    }
   ],
   "source": [
    "find_vowel(\"d\")"
   ]
  },
  {
   "cell_type": "code",
   "execution_count": 66,
   "metadata": {},
   "outputs": [],
   "source": [
    "def contained_or_not(lst, n):\n",
    "    for value in lst:\n",
    "        if n == value:\n",
    "            return True\n",
    "        else:\n",
    "            return False"
   ]
  },
  {
   "cell_type": "code",
   "execution_count": 68,
   "metadata": {},
   "outputs": [
    {
     "ename": "SyntaxError",
     "evalue": "invalid syntax (<ipython-input-68-0a34d0ac8895>, line 1)",
     "output_type": "error",
     "traceback": [
      "\u001b[1;36m  File \u001b[1;32m\"<ipython-input-68-0a34d0ac8895>\"\u001b[1;36m, line \u001b[1;32m1\u001b[0m\n\u001b[1;33m    def contained_or_not( [1, 5, 8, 3] , 3)\u001b[0m\n\u001b[1;37m                          ^\u001b[0m\n\u001b[1;31mSyntaxError\u001b[0m\u001b[1;31m:\u001b[0m invalid syntax\n"
     ]
    }
   ],
   "source": [
    "def contained_or_not( [1, 5, 8, 3] , 3)"
   ]
  },
  {
   "cell_type": "code",
   "execution_count": 82,
   "metadata": {},
   "outputs": [],
   "source": [
    "def list_to_str(list):\n",
    "    new_str = \"\"\n",
    "    for i in list:\n",
    "        new_str += str(i)\n",
    "    return new_str"
   ]
  },
  {
   "cell_type": "code",
   "execution_count": 83,
   "metadata": {},
   "outputs": [
    {
     "data": {
      "text/plain": [
       "'pdwwndwonwd'"
      ]
     },
     "execution_count": 83,
     "metadata": {},
     "output_type": "execute_result"
    }
   ],
   "source": [
    "list_to_str([\"p\", \"dwwn\", \"dwonwd\"])"
   ]
  },
  {
   "cell_type": "code",
   "execution_count": 84,
   "metadata": {},
   "outputs": [],
   "source": [
    "numbers = [    \n",
    "    386, 462, 47, 418, 907, 344, 236, 375, 823, 566, 597, 978, 328, 615, 953, 345, \n",
    "    399, 162, 758, 219, 918, 237, 412, 566, 826, 248, 866, 950, 626, 949, 687, 217, \n",
    "    815, 67, 104, 58, 512, 24, 892, 894, 767, 553, 81, 379, 843, 831, 445, 742, 717, \n",
    "    958,743, 527\n",
    "    ]"
   ]
  },
  {
   "cell_type": "code",
   "execution_count": 87,
   "metadata": {},
   "outputs": [],
   "source": [
    "def print(list):\n",
    "    for num in numbers:\n",
    "        if num == 237:\n",
    "            print(num)\n",
    "            break\n",
    "        elif num %2 == 0:\n",
    "            print(num)\n",
    "        \n",
    "    "
   ]
  },
  {
   "cell_type": "code",
   "execution_count": 89,
   "metadata": {
    "collapsed": true
   },
   "outputs": [
    {
     "ename": "RecursionError",
     "evalue": "maximum recursion depth exceeded in comparison",
     "output_type": "error",
     "traceback": [
      "\u001b[1;31m---------------------------------------------------------------------------\u001b[0m",
      "\u001b[1;31mRecursionError\u001b[0m                            Traceback (most recent call last)",
      "\u001b[1;32m<ipython-input-89-c1a301b8f947>\u001b[0m in \u001b[0;36m<module>\u001b[1;34m\u001b[0m\n\u001b[1;32m----> 1\u001b[1;33m print([    \n\u001b[0m\u001b[0;32m      2\u001b[0m     \u001b[1;36m386\u001b[0m\u001b[1;33m,\u001b[0m \u001b[1;36m462\u001b[0m\u001b[1;33m,\u001b[0m \u001b[1;36m47\u001b[0m\u001b[1;33m,\u001b[0m \u001b[1;36m418\u001b[0m\u001b[1;33m,\u001b[0m \u001b[1;36m907\u001b[0m\u001b[1;33m,\u001b[0m \u001b[1;36m344\u001b[0m\u001b[1;33m,\u001b[0m \u001b[1;36m236\u001b[0m\u001b[1;33m,\u001b[0m \u001b[1;36m375\u001b[0m\u001b[1;33m,\u001b[0m \u001b[1;36m823\u001b[0m\u001b[1;33m,\u001b[0m \u001b[1;36m566\u001b[0m\u001b[1;33m,\u001b[0m \u001b[1;36m597\u001b[0m\u001b[1;33m,\u001b[0m \u001b[1;36m978\u001b[0m\u001b[1;33m,\u001b[0m \u001b[1;36m328\u001b[0m\u001b[1;33m,\u001b[0m \u001b[1;36m615\u001b[0m\u001b[1;33m,\u001b[0m \u001b[1;36m953\u001b[0m\u001b[1;33m,\u001b[0m \u001b[1;36m345\u001b[0m\u001b[1;33m,\u001b[0m\u001b[1;33m\u001b[0m\u001b[1;33m\u001b[0m\u001b[0m\n\u001b[0;32m      3\u001b[0m     \u001b[1;36m399\u001b[0m\u001b[1;33m,\u001b[0m \u001b[1;36m162\u001b[0m\u001b[1;33m,\u001b[0m \u001b[1;36m758\u001b[0m\u001b[1;33m,\u001b[0m \u001b[1;36m219\u001b[0m\u001b[1;33m,\u001b[0m \u001b[1;36m918\u001b[0m\u001b[1;33m,\u001b[0m \u001b[1;36m237\u001b[0m\u001b[1;33m,\u001b[0m \u001b[1;36m412\u001b[0m\u001b[1;33m,\u001b[0m \u001b[1;36m566\u001b[0m\u001b[1;33m,\u001b[0m \u001b[1;36m826\u001b[0m\u001b[1;33m,\u001b[0m \u001b[1;36m248\u001b[0m\u001b[1;33m,\u001b[0m \u001b[1;36m866\u001b[0m\u001b[1;33m,\u001b[0m \u001b[1;36m950\u001b[0m\u001b[1;33m,\u001b[0m \u001b[1;36m626\u001b[0m\u001b[1;33m,\u001b[0m \u001b[1;36m949\u001b[0m\u001b[1;33m,\u001b[0m \u001b[1;36m687\u001b[0m\u001b[1;33m,\u001b[0m \u001b[1;36m217\u001b[0m\u001b[1;33m,\u001b[0m\u001b[1;33m\u001b[0m\u001b[1;33m\u001b[0m\u001b[0m\n\u001b[0;32m      4\u001b[0m     \u001b[1;36m815\u001b[0m\u001b[1;33m,\u001b[0m \u001b[1;36m67\u001b[0m\u001b[1;33m,\u001b[0m \u001b[1;36m104\u001b[0m\u001b[1;33m,\u001b[0m \u001b[1;36m58\u001b[0m\u001b[1;33m,\u001b[0m \u001b[1;36m512\u001b[0m\u001b[1;33m,\u001b[0m \u001b[1;36m24\u001b[0m\u001b[1;33m,\u001b[0m \u001b[1;36m892\u001b[0m\u001b[1;33m,\u001b[0m \u001b[1;36m894\u001b[0m\u001b[1;33m,\u001b[0m \u001b[1;36m767\u001b[0m\u001b[1;33m,\u001b[0m \u001b[1;36m553\u001b[0m\u001b[1;33m,\u001b[0m \u001b[1;36m81\u001b[0m\u001b[1;33m,\u001b[0m \u001b[1;36m379\u001b[0m\u001b[1;33m,\u001b[0m \u001b[1;36m843\u001b[0m\u001b[1;33m,\u001b[0m \u001b[1;36m831\u001b[0m\u001b[1;33m,\u001b[0m \u001b[1;36m445\u001b[0m\u001b[1;33m,\u001b[0m \u001b[1;36m742\u001b[0m\u001b[1;33m,\u001b[0m \u001b[1;36m717\u001b[0m\u001b[1;33m,\u001b[0m\u001b[1;33m\u001b[0m\u001b[1;33m\u001b[0m\u001b[0m\n\u001b[0;32m      5\u001b[0m     \u001b[1;36m958\u001b[0m\u001b[1;33m,\u001b[0m\u001b[1;36m743\u001b[0m\u001b[1;33m,\u001b[0m \u001b[1;36m527\u001b[0m\u001b[1;33m\u001b[0m\u001b[1;33m\u001b[0m\u001b[0m\n",
      "\u001b[1;32m<ipython-input-87-b4c16bd93382>\u001b[0m in \u001b[0;36mprint\u001b[1;34m(list)\u001b[0m\n\u001b[0;32m      5\u001b[0m             \u001b[1;32mbreak\u001b[0m\u001b[1;33m\u001b[0m\u001b[1;33m\u001b[0m\u001b[0m\n\u001b[0;32m      6\u001b[0m         \u001b[1;32melif\u001b[0m \u001b[0mnum\u001b[0m \u001b[1;33m%\u001b[0m\u001b[1;36m2\u001b[0m \u001b[1;33m==\u001b[0m \u001b[1;36m0\u001b[0m\u001b[1;33m:\u001b[0m\u001b[1;33m\u001b[0m\u001b[1;33m\u001b[0m\u001b[0m\n\u001b[1;32m----> 7\u001b[1;33m             \u001b[0mprint\u001b[0m\u001b[1;33m(\u001b[0m\u001b[0mnum\u001b[0m\u001b[1;33m)\u001b[0m\u001b[1;33m\u001b[0m\u001b[1;33m\u001b[0m\u001b[0m\n\u001b[0m\u001b[0;32m      8\u001b[0m \u001b[1;33m\u001b[0m\u001b[0m\n\u001b[0;32m      9\u001b[0m \u001b[1;33m\u001b[0m\u001b[0m\n",
      "... last 1 frames repeated, from the frame below ...\n",
      "\u001b[1;32m<ipython-input-87-b4c16bd93382>\u001b[0m in \u001b[0;36mprint\u001b[1;34m(list)\u001b[0m\n\u001b[0;32m      5\u001b[0m             \u001b[1;32mbreak\u001b[0m\u001b[1;33m\u001b[0m\u001b[1;33m\u001b[0m\u001b[0m\n\u001b[0;32m      6\u001b[0m         \u001b[1;32melif\u001b[0m \u001b[0mnum\u001b[0m \u001b[1;33m%\u001b[0m\u001b[1;36m2\u001b[0m \u001b[1;33m==\u001b[0m \u001b[1;36m0\u001b[0m\u001b[1;33m:\u001b[0m\u001b[1;33m\u001b[0m\u001b[1;33m\u001b[0m\u001b[0m\n\u001b[1;32m----> 7\u001b[1;33m             \u001b[0mprint\u001b[0m\u001b[1;33m(\u001b[0m\u001b[0mnum\u001b[0m\u001b[1;33m)\u001b[0m\u001b[1;33m\u001b[0m\u001b[1;33m\u001b[0m\u001b[0m\n\u001b[0m\u001b[0;32m      8\u001b[0m \u001b[1;33m\u001b[0m\u001b[0m\n\u001b[0;32m      9\u001b[0m \u001b[1;33m\u001b[0m\u001b[0m\n",
      "\u001b[1;31mRecursionError\u001b[0m: maximum recursion depth exceeded in comparison"
     ]
    }
   ],
   "source": [
    "print([    \n",
    "    386, 462, 47, 418, 907, 344, 236, 375, 823, 566, 597, 978, 328, 615, 953, 345, \n",
    "    399, 162, 758, 219, 918, 237, 412, 566, 826, 248, 866, 950, 626, 949, 687, 217, \n",
    "    815, 67, 104, 58, 512, 24, 892, 894, 767, 553, 81, 379, 843, 831, 445, 742, 717, \n",
    "    958,743, 527\n",
    "    ])"
   ]
  },
  {
   "cell_type": "code",
   "execution_count": 4,
   "metadata": {},
   "outputs": [],
   "source": [
    "Sample_Dictionary = {0:10, 1:20}\n",
    "#Expected Result: {0:10, 1:20, 2:30}\n",
    "\n",
    "Sample_Dictionary.update({2:30})"
   ]
  },
  {
   "cell_type": "code",
   "execution_count": 5,
   "metadata": {},
   "outputs": [
    {
     "data": {
      "text/plain": [
       "{0: 10, 1: 20, 2: 30}"
      ]
     },
     "execution_count": 5,
     "metadata": {},
     "output_type": "execute_result"
    }
   ],
   "source": [
    "Sample_Dictionary"
   ]
  },
  {
   "cell_type": "code",
   "execution_count": 9,
   "metadata": {},
   "outputs": [],
   "source": [
    "dic1 = {1:10, 2:20}\n",
    "dic2 = {3:30, 4:40}\n",
    "dic3 = {5:50, 6:60}\n",
    "\n",
    "dic1.update(dic2)\n",
    "dic1.update(dic3)"
   ]
  },
  {
   "cell_type": "code",
   "execution_count": 10,
   "metadata": {},
   "outputs": [
    {
     "name": "stdout",
     "output_type": "stream",
     "text": [
      "{1: 10, 2: 20, 3: 30, 4: 40, 5: 50, 6: 60}\n"
     ]
    }
   ],
   "source": [
    "print(dic1)"
   ]
  },
  {
   "cell_type": "code",
   "execution_count": 12,
   "metadata": {},
   "outputs": [],
   "source": [
    "dic4 = {}\n",
    "for d in (dic1, dic2, dic3): dic4.update(d)"
   ]
  },
  {
   "cell_type": "code",
   "execution_count": 13,
   "metadata": {},
   "outputs": [
    {
     "name": "stdout",
     "output_type": "stream",
     "text": [
      "{1: 10, 2: 20, 3: 30, 4: 40, 5: 50, 6: 60}\n"
     ]
    }
   ],
   "source": [
    "print(dic4)"
   ]
  },
  {
   "cell_type": "code",
   "execution_count": 14,
   "metadata": {},
   "outputs": [],
   "source": [
    "d = {1:10, 2:20, 3:30, 4:40, 5:50, 6:60}\n",
    "def is_key_present(x):\n",
    "    if x in d:\n",
    "        print(\"Present\")\n",
    "    else:\n",
    "        print(\"Not present\")"
   ]
  },
  {
   "cell_type": "code",
   "execution_count": 16,
   "metadata": {},
   "outputs": [
    {
     "name": "stdout",
     "output_type": "stream",
     "text": [
      "Not present\n"
     ]
    }
   ],
   "source": [
    "is_key_present(9)"
   ]
  },
  {
   "cell_type": "code",
   "execution_count": 21,
   "metadata": {},
   "outputs": [
    {
     "name": "stdout",
     "output_type": "stream",
     "text": [
      "x -> 10\n",
      "y -> 20\n",
      "z -> 30\n"
     ]
    }
   ],
   "source": [
    "d = {\"x\":10, \"y\":20, \"z\":30}\n",
    "for dict_keys, dict_values in d.items():\n",
    "    print(dict_keys, \"->\", dict_values)"
   ]
  },
  {
   "cell_type": "code",
   "execution_count": 36,
   "metadata": {},
   "outputs": [
    {
     "name": "stdout",
     "output_type": "stream",
     "text": [
      "Number: 6\n",
      "{1: 1, 2: 4, 3: 9, 4: 16, 5: 25, 6: 36}\n"
     ]
    }
   ],
   "source": [
    "new_dic = {}\n",
    "n = int(input(\"Number: \"))\n",
    "\n",
    "for x in range(1, (n+1)):\n",
    "    new_dic[x] = x*x\n",
    "    \n",
    "print(new_dic)"
   ]
  },
  {
   "cell_type": "code",
   "execution_count": 38,
   "metadata": {},
   "outputs": [
    {
     "name": "stdout",
     "output_type": "stream",
     "text": [
      "{1: 1, 2: 4, 3: 9, 4: 16, 5: 25, 6: 36, 7: 49, 8: 64, 9: 81, 10: 100, 11: 121, 12: 144, 13: 169, 14: 196, 15: 225}\n"
     ]
    }
   ],
   "source": [
    "p = {}\n",
    "for a in range(1, 16):\n",
    "    p[a] = a*a\n",
    "    \n",
    "print(p)"
   ]
  },
  {
   "cell_type": "code",
   "execution_count": 41,
   "metadata": {},
   "outputs": [
    {
     "name": "stdout",
     "output_type": "stream",
     "text": [
      "{'a': 1, 'b': 2}\n"
     ]
    }
   ],
   "source": [
    "dict1 = {\"a\":1}\n",
    "dict2 = {\"b\":2}\n",
    "dict1.update(dict2)\n",
    "print(dict1)"
   ]
  },
  {
   "cell_type": "code",
   "execution_count": 45,
   "metadata": {},
   "outputs": [
    {
     "name": "stdout",
     "output_type": "stream",
     "text": [
      "{'a': 10, 'b': 20}\n",
      "{'a': 10, 'b': 20}\n"
     ]
    }
   ],
   "source": [
    "y = {\"a\":10, \"b\":20}\n",
    "for a, b in y.items():\n",
    "    print(y)"
   ]
  },
  {
   "cell_type": "code",
   "execution_count": 48,
   "metadata": {},
   "outputs": [
    {
     "name": "stdout",
     "output_type": "stream",
     "text": [
      "600\n"
     ]
    }
   ],
   "source": [
    "my_dict = {\"data1\":100, \"data2\":200, \"data3\":300}\n",
    "print(sum(my_dict.values()))"
   ]
  },
  {
   "cell_type": "code",
   "execution_count": 52,
   "metadata": {},
   "outputs": [
    {
     "name": "stdout",
     "output_type": "stream",
     "text": [
      "6000000\n"
     ]
    }
   ],
   "source": [
    "my_dict = {\"data1\":100, \"data2\":200, \"data3\":300}\n",
    "result = 1\n",
    "for value in my_dict:\n",
    "    result = result*my_dict[value]\n",
    "\n",
    "print(result)"
   ]
  },
  {
   "cell_type": "code",
   "execution_count": 55,
   "metadata": {},
   "outputs": [
    {
     "name": "stdout",
     "output_type": "stream",
     "text": [
      "{'data2': 200, 'data3': 300}\n"
     ]
    }
   ],
   "source": [
    "my_dict = {\"data1\":100, \"data2\":200, \"data3\":300}\n",
    "if \"data1\" in my_dict:\n",
    "    del my_dict[\"data1\"]\n",
    "print(my_dict)"
   ]
  },
  {
   "cell_type": "code",
   "execution_count": 56,
   "metadata": {},
   "outputs": [
    {
     "name": "stdout",
     "output_type": "stream",
     "text": [
      "{1: 6, 2: 7, 3: 8, 4: 9, 5: 10}\n"
     ]
    }
   ],
   "source": [
    "lst1 = [1, 2, 3, 4, 5]\n",
    "lst2 = [6, 7, 8, 9, 10]\n",
    "\n",
    "dictionary = dict(zip(lst1, lst2))\n",
    "print(dictionary)\n",
    "    # 튜플로 먼저 만들고 딕셔너리화했네 하...이걸 어케 생각하냐 진자"
   ]
  },
  {
   "cell_type": "code",
   "execution_count": 57,
   "metadata": {},
   "outputs": [
    {
     "name": "stdout",
     "output_type": "stream",
     "text": [
      "black: #000000\n",
      "green: #008000\n",
      "red: #FF0000\n",
      "white: #FFFFFF\n"
     ]
    }
   ],
   "source": [
    "color_dict = {'red':'#FF0000',\n",
    "          'green':'#008000',\n",
    "          'black':'#000000',\n",
    "          'white':'#FFFFFF'}\n",
    "\n",
    "for key in sorted(color_dict):\n",
    "    print(\"%s: %s\" % (key, color_dict[key]))"
   ]
  },
  {
   "cell_type": "code",
   "execution_count": 65,
   "metadata": {},
   "outputs": [
    {
     "name": "stdout",
     "output_type": "stream",
     "text": [
      "300\n",
      "100\n"
     ]
    }
   ],
   "source": [
    "my_dict = {\"data1\":100, \"data2\":200, \"data3\":300}\n",
    "p = my_dict.values()\n",
    "print(max(p))\n",
    "print(min(p))"
   ]
  },
  {
   "cell_type": "code",
   "execution_count": 66,
   "metadata": {},
   "outputs": [
    {
     "name": "stdout",
     "output_type": "stream",
     "text": [
      "{'x': 'red', 'y': 'yellow', 'z': 'green'}\n"
     ]
    }
   ],
   "source": [
    "class dictobj(object):\n",
    "    def __init__(self):\n",
    "        self.x = \"red\"\n",
    "        self.y = \"yellow\"\n",
    "        self.z = \"green\"\n",
    "test = dictobj()\n",
    "print(test.__dict__)"
   ]
  },
  {
   "cell_type": "code",
   "execution_count": 67,
   "metadata": {},
   "outputs": [
    {
     "name": "stdout",
     "output_type": "stream",
     "text": [
      "Dictionary is empty\n"
     ]
    }
   ],
   "source": [
    "my_dict = {}\n",
    "\n",
    "if not bool(my_dict):\n",
    "    print(\"Dictionary is empty\")"
   ]
  },
  {
   "cell_type": "code",
   "execution_count": 72,
   "metadata": {},
   "outputs": [
    {
     "name": "stdout",
     "output_type": "stream",
     "text": [
      "{'a': 300, 'b': 200, 'c': 300, 'd': 400}\n"
     ]
    }
   ],
   "source": [
    "d1 = {'a': 100, 'b': 200, 'c':300}\n",
    "d2 = {'a': 300, 'b': 200, 'd':400}\n",
    "p = d1.update(d2)\n",
    "print(d1)"
   ]
  },
  {
   "cell_type": "code",
   "execution_count": null,
   "metadata": {},
   "outputs": [],
   "source": [
    "sam_dict = {'1':['a','b'], '2':['c','d']}\n"
   ]
  },
  {
   "cell_type": "code",
   "execution_count": null,
   "metadata": {},
   "outputs": [],
   "source": []
  },
  {
   "cell_type": "code",
   "execution_count": null,
   "metadata": {},
   "outputs": [],
   "source": []
  },
  {
   "cell_type": "code",
   "execution_count": null,
   "metadata": {},
   "outputs": [],
   "source": []
  },
  {
   "cell_type": "code",
   "execution_count": null,
   "metadata": {},
   "outputs": [],
   "source": []
  },
  {
   "cell_type": "code",
   "execution_count": null,
   "metadata": {},
   "outputs": [],
   "source": []
  },
  {
   "cell_type": "code",
   "execution_count": null,
   "metadata": {},
   "outputs": [],
   "source": []
  },
  {
   "cell_type": "code",
   "execution_count": null,
   "metadata": {},
   "outputs": [],
   "source": []
  },
  {
   "cell_type": "code",
   "execution_count": null,
   "metadata": {},
   "outputs": [],
   "source": []
  }
 ],
 "metadata": {
  "kernelspec": {
   "display_name": "Python 3",
   "language": "python",
   "name": "python3"
  },
  "language_info": {
   "codemirror_mode": {
    "name": "ipython",
    "version": 3
   },
   "file_extension": ".py",
   "mimetype": "text/x-python",
   "name": "python",
   "nbconvert_exporter": "python",
   "pygments_lexer": "ipython3",
   "version": "3.8.5"
  }
 },
 "nbformat": 4,
 "nbformat_minor": 4
}
